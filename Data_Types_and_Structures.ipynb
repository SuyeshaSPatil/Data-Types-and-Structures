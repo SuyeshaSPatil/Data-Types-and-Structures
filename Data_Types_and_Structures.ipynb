{
  "nbformat": 4,
  "nbformat_minor": 0,
  "metadata": {
    "colab": {
      "provenance": []
    },
    "kernelspec": {
      "name": "python3",
      "display_name": "Python 3"
    },
    "language_info": {
      "name": "python"
    }
  },
  "cells": [
    {
      "cell_type": "markdown",
      "source": [
        "# Data Types and Structures\n",
        "\n",
        "1.   What are data structures, and why are they important?\n",
        "-    Data structures are ways of organizing and storing data so we can use it efficiently. They are important because they make programs faster and easier to manage. Example: using a dictionary to quickly look up a phone number instead of searching through a list.\n",
        "\n",
        "2.   Explain the difference between mutable and immutable data types with examples?\n",
        "-    Mutable:can be changed after creation. Example: list = [1,2,3], you can add or remove items.\n",
        "-    Immutable: cannot be changed once created. Example: tuple = (1,2,3) or string = \"hello\". If you want changes, you must make a new one.\n",
        "\n",
        "3.   What are the main differences between lists and tuples in Python?\n",
        "-    List: mutable (can change), uses square brackets [].\n",
        "\n",
        "-    Tuple: immutable (cannot change), uses parentheses ().\n",
        "\n",
        "-    Lists are flexible, tuples are more stable.\n",
        "\n",
        "4.   Describe how dictionaries store data?\n",
        "- Dictionaries store data in key-value pairs. Example: {\"name\": \"Suyesha\", \"age\": 22}. You use the key (\"name\") to quickly get the value (\"Suyesha\").\n",
        "\n",
        "5.   Why might you use a set instead of a list in Python?\n",
        "- Because sets automatically remove duplicates and checking if something exists is much faster.\n",
        "\n",
        "6.   What is a string in Python, and how is it different from a list?\n",
        "- A string is a sequence of characters like \"hello\". A list can hold different types (numbers, strings, etc.). Strings are immutable, lists are mutable.\n",
        "\n",
        "7.   How do tuples ensure data integrity in Python?\n",
        "- Since tuples can’t be changed, the data inside stays safe from accidental modification. That’s why they’re often used for fixed values.\n",
        "\n",
        "8.   What is a hash table, and how does it relate to dictionaries in Python?\n",
        "- A hash table is a data structure that lets you find things quickly using keys. Python dictionaries are built using hash tables under the hood.\n",
        "\n",
        "9.   Can lists contain different data types in Python?\n",
        "Yes. Example: [1, \"hello\", 3.5, True] is perfectly valid.\n",
        "\n",
        "10.  Explain why strings are immutable in Python?\n",
        "- Because immutability makes them safer, faster, and more memory-efficient. For example, if two variables use the same string, Python can reuse it instead of making copies.\n",
        "\n",
        "11.   What advantages do dictionaries offer over lists for certain tasks?\n",
        "- They allow fast lookups by key instead of searching item by item. Example: finding someone’s phone number in a dictionary is instant, while in a list you’d have to search line by line.\n",
        "\n",
        "12.   Describe a scenario where using a tuple would be preferable over a list?\n",
        "- If you have data that should never change, like coordinates (10, 20), a tuple is better. It prevents accidental modification.\n",
        "\n",
        "13.   How do sets handle duplicate values in Python?\n",
        "- They remove duplicates automatically. Example: {1,2,2,3} becomes {1,2,3}.\n",
        "\n",
        "14.   How does the “in” keyword work differently for lists and dictionaries?\n",
        "- In a list → checks if a value exists: 5 in [1,2,5] → True.\n",
        "\n",
        "- In a dictionary → checks if a key exists: \"name\" in {\"name\": \"Suyesha\"} → True.\n",
        "\n",
        "15.   Can you modify the elements of a tuple? Explain why or why not.\n",
        "- No. Tuples are immutable, so once created, they cannot be changed. This ensures data safety.\n",
        "\n",
        "16.   What is a nested dictionary, and give an example of its use case?\n",
        "- A dictionary inside another dictionary. Example: students = {\n",
        "   \"Suyesha\": {\"age\": 22, \"course\": \"CS\"},\n",
        "   \"Amit\": {\"age\": 21, \"course\": \"IT\"}\n",
        "}\n",
        "\n",
        "17.   Describe the time complexity of accessing elements in a dictionary.\n",
        "- O(1) on average → meaning it takes constant time, no matter how big the dictionary is.\n",
        "\n",
        "18.   what situations are lists preferred over dictionaries?\n",
        "- When order matters or you don’t need key-value pairs. Example: a list of student names [“Suyesha”, “Amit”, “Riya”].\n",
        "\n",
        "19.   Why are dictionaries considered unordered, and how does that affect data retrieval?\n",
        "- Before Python 3.7, dictionaries didn’t guarantee order. Even now, the order doesn’t matter for lookups—you always use the key. That means you can’t rely on the order of insertion for logic (though it’s preserved in latest Python).\n",
        "\n",
        "20.   Explain the difference between a list and a dictionary in terms of data retrieval.\n",
        "- List → You get values by index (mylist[0]).\n",
        "\n",
        "- Dictionary → You get values by key (mydict[\"name\"]).\n",
        "Dictionaries are faster if you need to search by name, ID, etc."
      ],
      "metadata": {
        "id": "OUC3KQrle90K"
      }
    },
    {
      "cell_type": "markdown",
      "source": [
        "# Practical Questions"
      ],
      "metadata": {
        "id": "3kWey6uhlNmp"
      }
    },
    {
      "cell_type": "code",
      "source": [
        "# 1. Write a code to create a string with your name and print it.\n",
        "name = \"Suyesha\"\n",
        "print(name)\n"
      ],
      "metadata": {
        "colab": {
          "base_uri": "https://localhost:8080/"
        },
        "id": "K1YcAGuCkCt3",
        "outputId": "1995a7ca-0723-450c-bdcf-4b4dc572549b"
      },
      "execution_count": 27,
      "outputs": [
        {
          "output_type": "stream",
          "name": "stdout",
          "text": [
            "Suyesha\n"
          ]
        }
      ]
    },
    {
      "cell_type": "code",
      "source": [
        "# 2. Write a code to find the length of the string \"Hello World\".\n",
        "text = \"Hello World\"\n",
        "print(len(text))"
      ],
      "metadata": {
        "colab": {
          "base_uri": "https://localhost:8080/"
        },
        "id": "FejlobG7llvz",
        "outputId": "6a340797-88d1-435b-f9c3-a51b17a7740d"
      },
      "execution_count": 28,
      "outputs": [
        {
          "output_type": "stream",
          "name": "stdout",
          "text": [
            "11\n"
          ]
        }
      ]
    },
    {
      "cell_type": "code",
      "source": [
        "# 3. Write a code to slice the first 3 characters from the string \"Python Programming\"?\n",
        "text = \"Python Programming\"\n",
        "print(text[:3])"
      ],
      "metadata": {
        "colab": {
          "base_uri": "https://localhost:8080/"
        },
        "id": "9QzwPapIlltN",
        "outputId": "b1de8bbc-8425-4392-b8b6-e30803052a1a"
      },
      "execution_count": 29,
      "outputs": [
        {
          "output_type": "stream",
          "name": "stdout",
          "text": [
            "Pyt\n"
          ]
        }
      ]
    },
    {
      "cell_type": "code",
      "source": [
        "# 4. Write a code to convert the string \"hello\" to uppercase.\n",
        "word = \"hello\"\n",
        "print(word.upper())"
      ],
      "metadata": {
        "colab": {
          "base_uri": "https://localhost:8080/"
        },
        "id": "ncPPGwrzllq2",
        "outputId": "1db7d89c-4edb-42a9-862b-ac7a250ec822"
      },
      "execution_count": 30,
      "outputs": [
        {
          "output_type": "stream",
          "name": "stdout",
          "text": [
            "HELLO\n"
          ]
        }
      ]
    },
    {
      "cell_type": "code",
      "source": [
        "# 5. Write a code to replace the word \"apple\" with \"orange\" in the string \"I like apple\"?\n",
        "sentence = \"I like apple\"\n",
        "print(sentence.replace(\"apple\", \"orange\"))"
      ],
      "metadata": {
        "colab": {
          "base_uri": "https://localhost:8080/"
        },
        "id": "On_il_Rrllnr",
        "outputId": "0738d062-68ee-41de-d73a-318cb23c9bd4"
      },
      "execution_count": 31,
      "outputs": [
        {
          "output_type": "stream",
          "name": "stdout",
          "text": [
            "I like orange\n"
          ]
        }
      ]
    },
    {
      "cell_type": "code",
      "source": [
        "# 6. Write a code to create a list with numbers 1 to 5 and print it.\n",
        "numbers = [1, 2, 3, 4, 5]\n",
        "print(numbers)"
      ],
      "metadata": {
        "colab": {
          "base_uri": "https://localhost:8080/"
        },
        "id": "5hGjhV-illlU",
        "outputId": "f3598aef-b4f4-45db-cf76-a842a97c7beb"
      },
      "execution_count": 32,
      "outputs": [
        {
          "output_type": "stream",
          "name": "stdout",
          "text": [
            "[1, 2, 3, 4, 5]\n"
          ]
        }
      ]
    },
    {
      "cell_type": "code",
      "source": [
        "# 7. Write a code to append the number 10 to the list [1, 2, 3, 4].\n",
        "numbers = [1, 2, 3, 4]\n",
        "numbers.append(10)\n",
        "print(numbers)"
      ],
      "metadata": {
        "colab": {
          "base_uri": "https://localhost:8080/"
        },
        "id": "o8bJ0jLBlli6",
        "outputId": "d625cd10-2394-4f98-c843-d5e763df9c04"
      },
      "execution_count": 33,
      "outputs": [
        {
          "output_type": "stream",
          "name": "stdout",
          "text": [
            "[1, 2, 3, 4, 10]\n"
          ]
        }
      ]
    },
    {
      "cell_type": "code",
      "source": [
        "# 8. Write a code to remove the number 3 from the list [1, 2, 3, 4, 5].\n",
        "numbers = [1, 2, 3, 4, 5]\n",
        "numbers.remove(3)\n",
        "print(numbers)"
      ],
      "metadata": {
        "colab": {
          "base_uri": "https://localhost:8080/"
        },
        "id": "VGUM64HOllgi",
        "outputId": "b36732df-e3a5-473f-a879-b73d58475ced"
      },
      "execution_count": 34,
      "outputs": [
        {
          "output_type": "stream",
          "name": "stdout",
          "text": [
            "[1, 2, 4, 5]\n"
          ]
        }
      ]
    },
    {
      "cell_type": "code",
      "source": [
        "# 9. Write a code to access the second element in the list ['a', 'b', 'c', 'd'].\n",
        "letters = ['a', 'b', 'c', 'd']\n",
        "print(letters[1])"
      ],
      "metadata": {
        "colab": {
          "base_uri": "https://localhost:8080/"
        },
        "id": "ovTEmZvclld2",
        "outputId": "1f16da52-bdd5-4abb-c1b4-c95946772bb3"
      },
      "execution_count": 35,
      "outputs": [
        {
          "output_type": "stream",
          "name": "stdout",
          "text": [
            "b\n"
          ]
        }
      ]
    },
    {
      "cell_type": "code",
      "source": [
        "# 10. Write a code to reverse the list [10, 20, 30, 40, 50].\n",
        "numbers = [10, 20, 30, 40, 50]\n",
        "numbers.reverse()\n",
        "print(numbers)"
      ],
      "metadata": {
        "colab": {
          "base_uri": "https://localhost:8080/"
        },
        "id": "QynKlGF8llbE",
        "outputId": "bac5ee42-c25a-4720-e00b-366272c7ec12"
      },
      "execution_count": 36,
      "outputs": [
        {
          "output_type": "stream",
          "name": "stdout",
          "text": [
            "[50, 40, 30, 20, 10]\n"
          ]
        }
      ]
    },
    {
      "cell_type": "code",
      "source": [
        "# 11. Write a code to create a tuple with the elements 100, 200, 300 and print it.\n",
        "numbers = (100, 200, 300)\n",
        "print(numbers)"
      ],
      "metadata": {
        "colab": {
          "base_uri": "https://localhost:8080/"
        },
        "id": "WgmXbiH8llYi",
        "outputId": "e6fe4535-9db3-40db-94c1-dcdff0b0935b"
      },
      "execution_count": 37,
      "outputs": [
        {
          "output_type": "stream",
          "name": "stdout",
          "text": [
            "(100, 200, 300)\n"
          ]
        }
      ]
    },
    {
      "cell_type": "code",
      "source": [
        "# 12. Write a code to access the second-to-last element of the tuple ('red', 'green', 'blue', 'yellow').\n",
        "colors = ('red', 'green', 'blue', 'yellow')\n",
        "print(colors[-2])"
      ],
      "metadata": {
        "colab": {
          "base_uri": "https://localhost:8080/"
        },
        "id": "fm5Aw2L1llWZ",
        "outputId": "77651bcc-db8e-4c30-8acf-8de285bacfd7"
      },
      "execution_count": 38,
      "outputs": [
        {
          "output_type": "stream",
          "name": "stdout",
          "text": [
            "blue\n"
          ]
        }
      ]
    },
    {
      "cell_type": "code",
      "source": [
        "# 13. Write a code to find the minimum number in the tuple (10, 20, 5, 15).\n",
        "nums = (10, 20, 5, 15)\n",
        "print(min(nums))"
      ],
      "metadata": {
        "colab": {
          "base_uri": "https://localhost:8080/"
        },
        "id": "vQZfaW9kllTI",
        "outputId": "91f777ff-6e5e-40ba-e08c-73731c5d5d4c"
      },
      "execution_count": 39,
      "outputs": [
        {
          "output_type": "stream",
          "name": "stdout",
          "text": [
            "5\n"
          ]
        }
      ]
    },
    {
      "cell_type": "code",
      "source": [
        "# 14. Write a code to find the index of the element \"cat\" in the tuple ('dog', 'cat', 'rabbit').\n",
        "animals = ('dog', 'cat', 'rabbit')\n",
        "print(animals.index(\"cat\"))"
      ],
      "metadata": {
        "colab": {
          "base_uri": "https://localhost:8080/"
        },
        "id": "QjHNXUt7llPr",
        "outputId": "b72fa2dc-eb57-4f91-839e-85f8b28091bd"
      },
      "execution_count": 40,
      "outputs": [
        {
          "output_type": "stream",
          "name": "stdout",
          "text": [
            "1\n"
          ]
        }
      ]
    },
    {
      "cell_type": "code",
      "source": [
        "# 15. Write a code to create a tuple containing three different fruits and check if \"kiwi\" is in it.\n",
        "fruits = (\"apple\", \"banana\", \"mango\")\n",
        "print(\"kiwi\" in fruits)"
      ],
      "metadata": {
        "colab": {
          "base_uri": "https://localhost:8080/"
        },
        "id": "nqIJUibKllNU",
        "outputId": "cb6deff4-d63b-4168-f651-4ed1fb9dc698"
      },
      "execution_count": 41,
      "outputs": [
        {
          "output_type": "stream",
          "name": "stdout",
          "text": [
            "False\n"
          ]
        }
      ]
    },
    {
      "cell_type": "code",
      "source": [
        "# 16. Write a code to create a set with the elements 'a', 'b', 'c' and print it.\n",
        "letters = {'a', 'b', 'c'}\n",
        "print(letters)"
      ],
      "metadata": {
        "colab": {
          "base_uri": "https://localhost:8080/"
        },
        "id": "tj31lJXSllK3",
        "outputId": "0e849582-eaa0-45ca-cedb-73a04962070f"
      },
      "execution_count": 42,
      "outputs": [
        {
          "output_type": "stream",
          "name": "stdout",
          "text": [
            "{'c', 'b', 'a'}\n"
          ]
        }
      ]
    },
    {
      "cell_type": "code",
      "source": [
        "# 17. Write a code to clear all elements from the set {1, 2, 3, 4, 5}.\n",
        "nums = {1, 2, 3, 4, 5}\n",
        "nums.clear()\n",
        "print(nums)"
      ],
      "metadata": {
        "colab": {
          "base_uri": "https://localhost:8080/"
        },
        "id": "K7r-JYKTllIl",
        "outputId": "86287417-4486-4c8d-f597-ea9e90b6d9bc"
      },
      "execution_count": 43,
      "outputs": [
        {
          "output_type": "stream",
          "name": "stdout",
          "text": [
            "set()\n"
          ]
        }
      ]
    },
    {
      "cell_type": "code",
      "source": [
        "# 18. Write a code to remove the element 4 from the set {1, 2, 3, 4}.\n",
        "nums = {1, 2, 3, 4}\n",
        "nums.remove(4)\n",
        "print(nums)"
      ],
      "metadata": {
        "colab": {
          "base_uri": "https://localhost:8080/"
        },
        "id": "_wAJLy04llF_",
        "outputId": "8df1bc93-36d8-4daf-db74-ad3cc0a22dc3"
      },
      "execution_count": 44,
      "outputs": [
        {
          "output_type": "stream",
          "name": "stdout",
          "text": [
            "{1, 2, 3}\n"
          ]
        }
      ]
    },
    {
      "cell_type": "code",
      "source": [
        "# 19. Write a code to find the union of two sets {1, 2, 3} and {3, 4, 5}.\n",
        "set1 = {1, 2, 3}\n",
        "set2 = {3, 4, 5}\n",
        "print(set1.union(set2))"
      ],
      "metadata": {
        "colab": {
          "base_uri": "https://localhost:8080/"
        },
        "id": "HSqNDtKfllDy",
        "outputId": "e8478070-d376-4775-edd0-eefe912621cc"
      },
      "execution_count": 45,
      "outputs": [
        {
          "output_type": "stream",
          "name": "stdout",
          "text": [
            "{1, 2, 3, 4, 5}\n"
          ]
        }
      ]
    },
    {
      "cell_type": "code",
      "source": [
        "# 20. Write a code to find the intersection of two sets {1, 2, 3} and {2, 3, 4}.\n",
        "set1 = {1, 2, 3}\n",
        "set2 = {2, 3, 4}\n",
        "print(set1.intersection(set2))"
      ],
      "metadata": {
        "colab": {
          "base_uri": "https://localhost:8080/"
        },
        "id": "rqgxcSDkllBW",
        "outputId": "a69a6d47-b04f-4434-e922-dfbac669d7c7"
      },
      "execution_count": 46,
      "outputs": [
        {
          "output_type": "stream",
          "name": "stdout",
          "text": [
            "{2, 3}\n"
          ]
        }
      ]
    },
    {
      "cell_type": "code",
      "source": [
        "# 21. Write a code to create a dictionary with the keys \"name\", \"age\", and \"city\", and print it.\n",
        "person = {\"name\": \"Suyesha\", \"age\": 22, \"city\": \"Pune\"}\n",
        "print(person)"
      ],
      "metadata": {
        "colab": {
          "base_uri": "https://localhost:8080/"
        },
        "id": "sRQOGoLZlk--",
        "outputId": "076fdda2-210d-471d-8137-8100dc8463e8"
      },
      "execution_count": 47,
      "outputs": [
        {
          "output_type": "stream",
          "name": "stdout",
          "text": [
            "{'name': 'Suyesha', 'age': 22, 'city': 'Pune'}\n"
          ]
        }
      ]
    },
    {
      "cell_type": "code",
      "source": [
        "# 22. Write a code to add a new key-value pair \"country\": \"USA\" to the dictionary {'name': 'John', 'age': 25}.\n",
        "person = {'name': 'John', 'age': 25}\n",
        "person[\"country\"] = \"USA\"\n",
        "print(person)"
      ],
      "metadata": {
        "colab": {
          "base_uri": "https://localhost:8080/"
        },
        "id": "13OI4vI1lk83",
        "outputId": "d1c82f4d-db0c-4645-9059-2bf3cf8ebfef"
      },
      "execution_count": 48,
      "outputs": [
        {
          "output_type": "stream",
          "name": "stdout",
          "text": [
            "{'name': 'John', 'age': 25, 'country': 'USA'}\n"
          ]
        }
      ]
    },
    {
      "cell_type": "code",
      "source": [
        "# 23. Write a code to access the value associated with the key \"name\" in the dictionary {'name': 'Alice', 'age': 30}.\n",
        "person = {'name': 'Alice', 'age': 30}\n",
        "print(person[\"name\"])"
      ],
      "metadata": {
        "colab": {
          "base_uri": "https://localhost:8080/"
        },
        "id": "AwdO8ZwWlk52",
        "outputId": "72f9a081-4292-452a-d0d6-87ca1bee93fa"
      },
      "execution_count": 49,
      "outputs": [
        {
          "output_type": "stream",
          "name": "stdout",
          "text": [
            "Alice\n"
          ]
        }
      ]
    },
    {
      "cell_type": "code",
      "source": [
        "# 24. Write a code to remove the key \"age\" from the dictionary {'name': 'Bob', 'age': 22, 'city': 'New York'}.\n",
        "person = {'name': 'Bob', 'age': 22, 'city': 'New York'}\n",
        "person.pop(\"age\")\n",
        "print(person)"
      ],
      "metadata": {
        "colab": {
          "base_uri": "https://localhost:8080/"
        },
        "id": "VylDcF3ulk3P",
        "outputId": "88cb3338-9888-414e-f87c-8a86e5d20f4c"
      },
      "execution_count": 50,
      "outputs": [
        {
          "output_type": "stream",
          "name": "stdout",
          "text": [
            "{'name': 'Bob', 'city': 'New York'}\n"
          ]
        }
      ]
    },
    {
      "cell_type": "code",
      "source": [
        "# 25. Write a code to check if the key \"city\" exists in the dictionary {'name': 'Alice', 'city': 'Paris'}.\n",
        "person = {'name': 'Alice', 'city': 'Paris'}\n",
        "print(\"city\" in person)"
      ],
      "metadata": {
        "colab": {
          "base_uri": "https://localhost:8080/"
        },
        "id": "U9PyYM05lk0k",
        "outputId": "9a50f4dd-bb69-4abc-d7d8-715cade4fd09"
      },
      "execution_count": 51,
      "outputs": [
        {
          "output_type": "stream",
          "name": "stdout",
          "text": [
            "True\n"
          ]
        }
      ]
    },
    {
      "cell_type": "code",
      "source": [
        "# 26. Write a code to create a list, a tuple, and a dictionary, and print them all.\n",
        "my_list = [1, 2, 3]\n",
        "my_tuple = (10, 20, 30)\n",
        "my_dict = {\"a\": 1, \"b\": 2}\n",
        "\n",
        "print(my_list)\n",
        "print(my_tuple)\n",
        "print(my_dict)"
      ],
      "metadata": {
        "colab": {
          "base_uri": "https://localhost:8080/"
        },
        "id": "S2jNDVDklkyA",
        "outputId": "103caaa7-e415-4f74-ec13-3834adfedaa5"
      },
      "execution_count": 52,
      "outputs": [
        {
          "output_type": "stream",
          "name": "stdout",
          "text": [
            "[1, 2, 3]\n",
            "(10, 20, 30)\n",
            "{'a': 1, 'b': 2}\n"
          ]
        }
      ]
    },
    {
      "cell_type": "code",
      "source": [
        "# 27. Write a code to create a list of 5 random numbers between 1 and 100, sort it in ascending order, and print the result.(replaced)\n",
        "import random\n",
        "nums = random.sample(range(1, 101), 5)\n",
        "nums.sort()\n",
        "print(nums)"
      ],
      "metadata": {
        "colab": {
          "base_uri": "https://localhost:8080/"
        },
        "id": "Do9JVeIUlkvi",
        "outputId": "b6918bf5-d210-4acb-a700-7a2eafd419d5"
      },
      "execution_count": 53,
      "outputs": [
        {
          "output_type": "stream",
          "name": "stdout",
          "text": [
            "[9, 10, 35, 55, 67]\n"
          ]
        }
      ]
    },
    {
      "cell_type": "code",
      "source": [
        "# 28. Write a code to create a list with strings and print the element at the third index.\n",
        "words = [\"apple\", \"banana\", \"cherry\", \"date\", \"mango\"]\n",
        "print(words[3])"
      ],
      "metadata": {
        "colab": {
          "base_uri": "https://localhost:8080/"
        },
        "id": "a4bBv7CAlktP",
        "outputId": "b1148d73-15ee-418d-e2bc-56a71d2ad31a"
      },
      "execution_count": 54,
      "outputs": [
        {
          "output_type": "stream",
          "name": "stdout",
          "text": [
            "date\n"
          ]
        }
      ]
    },
    {
      "cell_type": "code",
      "source": [
        "# 29. Write a code to combine two dictionaries into one and print the result.\n",
        "dict1 = {\"a\": 1, \"b\": 2}\n",
        "dict2 = {\"c\": 3, \"d\": 4}\n",
        "\n",
        "combined = {**dict1, **dict2}\n",
        "print(combined)"
      ],
      "metadata": {
        "colab": {
          "base_uri": "https://localhost:8080/"
        },
        "id": "6j3e0fU6lkqn",
        "outputId": "b9f789fd-0872-44fd-8ae4-73cad92abe24"
      },
      "execution_count": 55,
      "outputs": [
        {
          "output_type": "stream",
          "name": "stdout",
          "text": [
            "{'a': 1, 'b': 2, 'c': 3, 'd': 4}\n"
          ]
        }
      ]
    },
    {
      "cell_type": "code",
      "source": [
        "# 30. Write a code to convert a list of strings into a set.\n",
        "# List of strings\n",
        "words = [\"apple\", \"banana\", \"cherry\", \"apple\", \"banana\"]\n",
        "\n",
        "# Convert list to set\n",
        "words_set = set(words)\n",
        "\n",
        "print(words_set)\n"
      ],
      "metadata": {
        "colab": {
          "base_uri": "https://localhost:8080/"
        },
        "id": "PBuLFApxlkno",
        "outputId": "63709416-905d-4254-cd0a-d204df270c34"
      },
      "execution_count": 56,
      "outputs": [
        {
          "output_type": "stream",
          "name": "stdout",
          "text": [
            "{'cherry', 'apple', 'banana'}\n"
          ]
        }
      ]
    }
  ]
}